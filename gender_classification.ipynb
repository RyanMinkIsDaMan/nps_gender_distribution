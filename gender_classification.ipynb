{
 "cells": [
  {
   "cell_type": "markdown",
   "metadata": {},
   "source": [
    "# Gender Classification by First Name"
   ]
  },
  {
   "cell_type": "markdown",
   "metadata": {},
   "source": [
    "Every notebook starts with the following three lines; they ensure that any edits to libraries you make are reloaded here automatically, and also that any charts or images displayed are shown in this notebook."
   ]
  },
  {
   "cell_type": "code",
   "execution_count": 95,
   "metadata": {},
   "outputs": [],
   "source": [
    "%reload_ext autoreload\n",
    "%autoreload 2\n",
    "%matplotlib inline"
   ]
  },
  {
   "cell_type": "markdown",
   "metadata": {},
   "source": [
    "Import libraries"
   ]
  },
  {
   "cell_type": "code",
   "execution_count": 96,
   "metadata": {},
   "outputs": [],
   "source": [
    "from collections import Counter\n",
    "\n",
    "import torch\n",
    "import torch.nn as nn\n",
    "from torch.utils.data import TensorDataset, DataLoader\n",
    "from lr_finder import *\n",
    "\n",
    "import pandas as pd\n",
    "import numpy as np\n",
    "import matplotlib.pyplot as plt\n",
    "from sklearn.metrics import confusion_matrix\n",
    "import seaborn as sn\n",
    "from model import Classifier\n",
    "import constants\n",
    "\n",
    "import pickle\n",
    "import inspect\n",
    "import helpers"
   ]
  },
  {
   "cell_type": "markdown",
   "metadata": {},
   "source": [
    "Load the dataset csv and investigate its content"
   ]
  },
  {
   "cell_type": "code",
   "execution_count": 97,
   "metadata": {},
   "outputs": [
    {
     "data": {
      "text/html": [
       "<div>\n",
       "<style scoped>\n",
       "    .dataframe tbody tr th:only-of-type {\n",
       "        vertical-align: middle;\n",
       "    }\n",
       "\n",
       "    .dataframe tbody tr th {\n",
       "        vertical-align: top;\n",
       "    }\n",
       "\n",
       "    .dataframe thead th {\n",
       "        text-align: right;\n",
       "    }\n",
       "</style>\n",
       "<table border=\"1\" class=\"dataframe\">\n",
       "  <thead>\n",
       "    <tr style=\"text-align: right;\">\n",
       "      <th></th>\n",
       "      <th>name</th>\n",
       "      <th>gender</th>\n",
       "      <th>probability</th>\n",
       "    </tr>\n",
       "  </thead>\n",
       "  <tbody>\n",
       "    <tr>\n",
       "      <th>0</th>\n",
       "      <td>Aaban</td>\n",
       "      <td>M</td>\n",
       "      <td>1.0</td>\n",
       "    </tr>\n",
       "    <tr>\n",
       "      <th>1</th>\n",
       "      <td>Aabha</td>\n",
       "      <td>F</td>\n",
       "      <td>1.0</td>\n",
       "    </tr>\n",
       "    <tr>\n",
       "      <th>2</th>\n",
       "      <td>Aabid</td>\n",
       "      <td>M</td>\n",
       "      <td>1.0</td>\n",
       "    </tr>\n",
       "    <tr>\n",
       "      <th>3</th>\n",
       "      <td>Aabriella</td>\n",
       "      <td>F</td>\n",
       "      <td>1.0</td>\n",
       "    </tr>\n",
       "    <tr>\n",
       "      <th>4</th>\n",
       "      <td>Aada</td>\n",
       "      <td>F</td>\n",
       "      <td>1.0</td>\n",
       "    </tr>\n",
       "  </tbody>\n",
       "</table>\n",
       "</div>"
      ],
      "text/plain": [
       "        name gender  probability\n",
       "0      Aaban      M          1.0\n",
       "1      Aabha      F          1.0\n",
       "2      Aabid      M          1.0\n",
       "3  Aabriella      F          1.0\n",
       "4       Aada      F          1.0"
      ]
     },
     "execution_count": 97,
     "metadata": {},
     "output_type": "execute_result"
    }
   ],
   "source": [
    "df = pd.read_csv('data/name_gender.csv')\n",
    "df.head()"
   ]
  },
  {
   "cell_type": "markdown",
   "metadata": {},
   "source": [
    "Remove the `probability` column because it is not needed"
   ]
  },
  {
   "cell_type": "code",
   "execution_count": 98,
   "metadata": {},
   "outputs": [
    {
     "data": {
      "text/html": [
       "<div>\n",
       "<style scoped>\n",
       "    .dataframe tbody tr th:only-of-type {\n",
       "        vertical-align: middle;\n",
       "    }\n",
       "\n",
       "    .dataframe tbody tr th {\n",
       "        vertical-align: top;\n",
       "    }\n",
       "\n",
       "    .dataframe thead th {\n",
       "        text-align: right;\n",
       "    }\n",
       "</style>\n",
       "<table border=\"1\" class=\"dataframe\">\n",
       "  <thead>\n",
       "    <tr style=\"text-align: right;\">\n",
       "      <th></th>\n",
       "      <th>name</th>\n",
       "      <th>gender</th>\n",
       "    </tr>\n",
       "  </thead>\n",
       "  <tbody>\n",
       "    <tr>\n",
       "      <th>0</th>\n",
       "      <td>Aaban</td>\n",
       "      <td>M</td>\n",
       "    </tr>\n",
       "    <tr>\n",
       "      <th>1</th>\n",
       "      <td>Aabha</td>\n",
       "      <td>F</td>\n",
       "    </tr>\n",
       "    <tr>\n",
       "      <th>2</th>\n",
       "      <td>Aabid</td>\n",
       "      <td>M</td>\n",
       "    </tr>\n",
       "    <tr>\n",
       "      <th>3</th>\n",
       "      <td>Aabriella</td>\n",
       "      <td>F</td>\n",
       "    </tr>\n",
       "    <tr>\n",
       "      <th>4</th>\n",
       "      <td>Aada</td>\n",
       "      <td>F</td>\n",
       "    </tr>\n",
       "  </tbody>\n",
       "</table>\n",
       "</div>"
      ],
      "text/plain": [
       "        name gender\n",
       "0      Aaban      M\n",
       "1      Aabha      F\n",
       "2      Aabid      M\n",
       "3  Aabriella      F\n",
       "4       Aada      F"
      ]
     },
     "execution_count": 98,
     "metadata": {},
     "output_type": "execute_result"
    }
   ],
   "source": [
    "df = df.drop('probability', axis=1)\n",
    "df.head()"
   ]
  },
  {
   "cell_type": "markdown",
   "metadata": {},
   "source": [
    "See how many names there are"
   ]
  },
  {
   "cell_type": "code",
   "execution_count": 99,
   "metadata": {},
   "outputs": [
    {
     "data": {
      "text/plain": [
       "(95026, 2)"
      ]
     },
     "execution_count": 99,
     "metadata": {},
     "output_type": "execute_result"
    }
   ],
   "source": [
    "df.shape"
   ]
  },
  {
   "cell_type": "markdown",
   "metadata": {},
   "source": [
    "Remove duplicate names if any"
   ]
  },
  {
   "cell_type": "code",
   "execution_count": 100,
   "metadata": {},
   "outputs": [
    {
     "data": {
      "text/plain": [
       "(95026, 2)"
      ]
     },
     "execution_count": 100,
     "metadata": {},
     "output_type": "execute_result"
    }
   ],
   "source": [
    "df = df.drop_duplicates(subset='name')\n",
    "df.shape"
   ]
  },
  {
   "cell_type": "markdown",
   "metadata": {},
   "source": [
    "See the distribution of genders in the dataset"
   ]
  },
  {
   "cell_type": "code",
   "execution_count": 101,
   "metadata": {},
   "outputs": [
    {
     "name": "stdout",
     "output_type": "stream",
     "text": [
      "F    60304\n",
      "M    34722\n",
      "Name: gender, dtype: int64\n"
     ]
    }
   ],
   "source": [
    "print(df.gender.value_counts())"
   ]
  },
  {
   "cell_type": "code",
   "execution_count": 102,
   "metadata": {},
   "outputs": [
    {
     "data": {
      "text/plain": [
       "<matplotlib.axes._subplots.AxesSubplot at 0x7f99485b7978>"
      ]
     },
     "execution_count": 102,
     "metadata": {},
     "output_type": "execute_result"
    },
    {
     "data": {
      "image/png": "[encoded data removed]",
      "text/plain": [
       "<Figure size 432x288 with 1 Axes>"
      ]
     },
     "metadata": {},
     "output_type": "display_data"
    }
   ],
   "source": [
    "sn.countplot(x='gender', data=df)"
   ]
  },
  {
   "cell_type": "markdown",
   "metadata": {},
   "source": [
    "Convert both name and gender columns to lists"
   ]
  },
  {
   "cell_type": "code",
   "execution_count": 103,
   "metadata": {},
   "outputs": [],
   "source": [
    "names = list(df.name)\n",
    "genders = list(df.gender)"
   ]
  },
  {
   "cell_type": "markdown",
   "metadata": {},
   "source": [
    "Tokenize names into lists of characters"
   ]
  },
  {
   "cell_type": "code",
   "execution_count": 104,
   "metadata": {},
   "outputs": [
    {
     "data": {
      "text/plain": [
       "['d', 'a', 'h', 'l', 't', 'o', 'n']"
      ]
     },
     "execution_count": 104,
     "metadata": {},
     "output_type": "execute_result"
    }
   ],
   "source": [
    "tokenized_names = list(map(helpers.tokenize_name, names))\n",
    "tokenized_names[19191]"
   ]
  },
  {
   "cell_type": "markdown",
   "metadata": {},
   "source": [
    "Build a dictionary that maps characters to integers"
   ]
  },
  {
   "cell_type": "code",
   "execution_count": 105,
   "metadata": {},
   "outputs": [
    {
     "data": {
      "text/plain": [
       "{'a': 1,\n",
       " 'e': 2,\n",
       " 'n': 3,\n",
       " 'i': 4,\n",
       " 'r': 5,\n",
       " 'l': 6,\n",
       " 's': 7,\n",
       " 'h': 8,\n",
       " 'y': 9,\n",
       " 'o': 10,\n",
       " 't': 11,\n",
       " 'd': 12,\n",
       " 'm': 13,\n",
       " 'k': 14,\n",
       " 'c': 15,\n",
       " 'u': 16,\n",
       " 'j': 17,\n",
       " 'b': 18,\n",
       " 'v': 19,\n",
       " 'g': 20,\n",
       " 'z': 21,\n",
       " 'w': 22,\n",
       " 'p': 23,\n",
       " 'f': 24,\n",
       " 'q': 25,\n",
       " 'x': 26}"
      ]
     },
     "execution_count": 105,
     "metadata": {},
     "output_type": "execute_result"
    }
   ],
   "source": [
    "all_chars_in_names = [char for chars in tokenized_names for char in chars]\n",
    "char_counts = Counter(all_chars_in_names)\n",
    "vocab = sorted(char_counts, key=char_counts.get, reverse=True)\n",
    "vocab_to_int_map = {char: i for i, char in enumerate(vocab, 1)}\n",
    "vocab_to_int_map"
   ]
  },
  {
   "cell_type": "markdown",
   "metadata": {},
   "source": [
    "Save vocab dictionary for inference"
   ]
  },
  {
   "cell_type": "code",
   "execution_count": 106,
   "metadata": {},
   "outputs": [],
   "source": [
    "with open(constants.VOCAB_TO_INT_MAP_PATH, 'wb') as handle:\n",
    "    pickle.dump(vocab_to_int_map, handle, protocol=pickle.HIGHEST_PROTOCOL)"
   ]
  },
  {
   "cell_type": "markdown",
   "metadata": {},
   "source": [
    "Numericalize names"
   ]
  },
  {
   "cell_type": "code",
   "execution_count": 107,
   "metadata": {},
   "outputs": [],
   "source": [
    "numericalized_names = []\n",
    "for tokenized_name in tokenized_names:\n",
    "    numericalized_names.append(helpers.numericalize_name(tokenized_name, vocab_to_int_map))"
   ]
  },
  {
   "cell_type": "markdown",
   "metadata": {},
   "source": [
    "Compare a token to its numerical form"
   ]
  },
  {
   "cell_type": "code",
   "execution_count": 108,
   "metadata": {},
   "outputs": [
    {
     "name": "stdout",
     "output_type": "stream",
     "text": [
      "Tokenized: ['a', 'a', 'l', 'e', 'x', 'u', 's']\n",
      "Numericalized: [1, 1, 6, 2, 26, 16, 7]\n"
     ]
    }
   ],
   "source": [
    "print('Tokenized: {}'.format(tokenized_names[100])) \n",
    "print('Numericalized: {}'.format(numericalized_names[100]))"
   ]
  },
  {
   "cell_type": "markdown",
   "metadata": {},
   "source": [
    "Encode labels into integers i.e. 0 and 1"
   ]
  },
  {
   "cell_type": "code",
   "execution_count": 109,
   "metadata": {},
   "outputs": [
    {
     "name": "stdout",
     "output_type": "stream",
     "text": [
      "Before: F\n",
      "After: 0\n"
     ]
    }
   ],
   "source": [
    "encoded_labels = np.array(list(map(lambda char: 1 if char.lower() == 'm' else 0, genders)))\n",
    "print('Before: %s' % genders[1])\n",
    "print('After: %s' % encoded_labels[1])"
   ]
  },
  {
   "cell_type": "markdown",
   "metadata": {},
   "source": [
    "Find the range of name lengths so we can use the max as the sequence length across all names"
   ]
  },
  {
   "cell_type": "code",
   "execution_count": 110,
   "metadata": {
    "scrolled": true
   },
   "outputs": [
    {
     "data": {
      "text/plain": [
       "Counter({5: 15962,\n",
       "         9: 5268,\n",
       "         4: 5189,\n",
       "         7: 24676,\n",
       "         6: 26436,\n",
       "         8: 13671,\n",
       "         12: 215,\n",
       "         11: 589,\n",
       "         10: 1698,\n",
       "         2: 148,\n",
       "         3: 951,\n",
       "         14: 62,\n",
       "         13: 128,\n",
       "         15: 33})"
      ]
     },
     "execution_count": 110,
     "metadata": {},
     "output_type": "execute_result"
    }
   ],
   "source": [
    "name_lengths = Counter([len(name) for name in numericalized_names])\n",
    "name_lengths"
   ]
  },
  {
   "cell_type": "code",
   "execution_count": 111,
   "metadata": {},
   "outputs": [
    {
     "data": {
      "text/plain": [
       "15"
      ]
     },
     "execution_count": 111,
     "metadata": {},
     "output_type": "execute_result"
    }
   ],
   "source": [
    "max_name_length = max(name_lengths)\n",
    "max_name_length"
   ]
  },
  {
   "cell_type": "code",
   "execution_count": 112,
   "metadata": {},
   "outputs": [
    {
     "data": {
      "text/plain": [
       "array([ 0,  0,  0,  0,  0,  0,  0,  0,  0,  0,  1,  1, 18,  1,  3])"
      ]
     },
     "execution_count": 112,
     "metadata": {},
     "output_type": "execute_result"
    }
   ],
   "source": [
    "features = helpers.pad_features(numericalized_names, max_name_length)\n",
    "features[0]"
   ]
  },
  {
   "cell_type": "markdown",
   "metadata": {},
   "source": [
    "Split dataset into training, validation, and test sets"
   ]
  },
  {
   "cell_type": "code",
   "execution_count": 113,
   "metadata": {},
   "outputs": [
    {
     "name": "stdout",
     "output_type": "stream",
     "text": [
      "Feature shapes:\n",
      "Training set: (76020, 15)\n",
      "Validation set: (9503, 15)\n",
      "Test set: (9503, 15)\n"
     ]
    }
   ],
   "source": [
    "split_idx = int(len(features) * 0.8)\n",
    "train_x, remaining_x = features[:split_idx], features[split_idx:]\n",
    "train_y, remaining_y = encoded_labels[:split_idx], encoded_labels[split_idx:]\n",
    "\n",
    "split_idx = int(len(remaining_x) * 0.5)\n",
    "valid_x, test_x = remaining_x[:split_idx], remaining_x[split_idx:]\n",
    "valid_y, test_y = remaining_y[:split_idx], remaining_y[split_idx:]\n",
    "\n",
    "print('Feature shapes:')\n",
    "print('Training set: {}'.format(train_x.shape))\n",
    "print('Validation set: {}'.format(valid_x.shape))\n",
    "print('Test set: {}'.format(test_x.shape))"
   ]
  },
  {
   "cell_type": "markdown",
   "metadata": {},
   "source": [
    "Prepare dataset to load into the model"
   ]
  },
  {
   "cell_type": "code",
   "execution_count": 114,
   "metadata": {},
   "outputs": [],
   "source": [
    "# create Tensor datasets\n",
    "train_data = TensorDataset(torch.from_numpy(train_x), torch.from_numpy(train_y))\n",
    "valid_data = TensorDataset(torch.from_numpy(valid_x), torch.from_numpy(valid_y))\n",
    "test_data = TensorDataset(torch.from_numpy(test_x), torch.from_numpy(test_y))\n",
    "\n",
    "batch_size = 128\n",
    "\n",
    "# shuffle data\n",
    "train_loader = DataLoader(train_data, shuffle=True, batch_size=batch_size)\n",
    "valid_loader = DataLoader(valid_data, shuffle=True, batch_size=batch_size)\n",
    "test_loader = DataLoader(test_data, shuffle=True, batch_size=batch_size)"
   ]
  },
  {
   "cell_type": "code",
   "execution_count": 115,
   "metadata": {},
   "outputs": [
    {
     "name": "stdout",
     "output_type": "stream",
     "text": [
      "Sample training input shape: torch.Size([128, 15])\n",
      "Sample training input: tensor([[ 0,  0,  0,  ..., 11, 11,  1],\n",
      "        [ 0,  0,  0,  ...,  2,  6,  6],\n",
      "        [ 0,  0,  0,  ..., 11, 11,  2],\n",
      "        ...,\n",
      "        [ 0,  0,  0,  ...,  3,  3,  2],\n",
      "        [ 0,  0,  0,  ...,  6,  4, 11],\n",
      "        [ 0,  0,  0,  ..., 10,  9,  1]])\n",
      "Sample training label shape: torch.Size([128])\n",
      "Sample training label: tensor([0, 1, 0, 0, 0, 0, 0, 1, 0, 0, 1, 1, 0, 1, 1, 0, 0, 0, 1, 1, 1, 0, 1, 0,\n",
      "        1, 0, 0, 0, 0, 0, 0, 0, 1, 1, 1, 0, 0, 0, 0, 0, 1, 1, 0, 1, 0, 0, 0, 0,\n",
      "        0, 1, 1, 0, 1, 0, 0, 0, 0, 0, 0, 1, 1, 0, 0, 0, 1, 0, 0, 0, 1, 1, 0, 1,\n",
      "        0, 1, 1, 1, 1, 1, 1, 0, 0, 1, 1, 0, 0, 1, 1, 0, 0, 0, 0, 1, 0, 0, 0, 0,\n",
      "        0, 1, 1, 0, 1, 1, 0, 0, 1, 0, 1, 0, 0, 0, 0, 1, 0, 0, 0, 0, 1, 1, 0, 0,\n",
      "        1, 1, 0, 0, 0, 0, 0, 0])\n"
     ]
    }
   ],
   "source": [
    "# get one batch of training data\n",
    "sample_train_x, sample_train_y = iter(train_loader).next()\n",
    "\n",
    "print('Sample training input shape: {}'.format(sample_train_x.shape))\n",
    "print('Sample training input: {}'.format(sample_train_x))\n",
    "\n",
    "print('Sample training label shape: {}'.format(sample_train_y.shape))\n",
    "print('Sample training label: {}'.format(sample_train_y))"
   ]
  },
  {
   "cell_type": "markdown",
   "metadata": {},
   "source": [
    "Check if we are training on a GPU or CPU"
   ]
  },
  {
   "cell_type": "code",
   "execution_count": 116,
   "metadata": {},
   "outputs": [
    {
     "name": "stdout",
     "output_type": "stream",
     "text": [
      "Training on GPU\n"
     ]
    }
   ],
   "source": [
    "is_training_on_gpu = torch.cuda.is_available()\n",
    "\n",
    "if is_training_on_gpu:\n",
    "    print('Training on GPU')\n",
    "else:\n",
    "    print('Training on CPU')"
   ]
  },
  {
   "cell_type": "markdown",
   "metadata": {},
   "source": [
    "Define model"
   ]
  },
  {
   "cell_type": "code",
   "execution_count": 117,
   "metadata": {},
   "outputs": [
    {
     "name": "stdout",
     "output_type": "stream",
     "text": [
      "class Classifier(nn.Module):\n",
      "    def __init__(self, sequence_length, num_layers, vocab_size, hidden_dim, output_size):\n",
      "        '''\n",
      "        Define model architecture\n",
      "        '''\n",
      "        super(Classifier, self).__init__()\n",
      "        \n",
      "        self.num_layers = num_layers\n",
      "        self.hidden_dim = hidden_dim\n",
      "        self.output_size = output_size\n",
      "        \n",
      "        self.one_hot_matrix = torch.eye(vocab_size)\n",
      "        self.lstm = nn.LSTM(vocab_size, hidden_dim, num_layers=num_layers, dropout=0.5, batch_first=True)\n",
      "        self.fc = nn.Linear(hidden_dim, output_size)\n",
      "        self.dropout = nn.Dropout(p=0.5)\n",
      "        \n",
      "    def one_hot_encode(self, labels):\n",
      "        '''\n",
      "        Embedding labels to one-hot form\n",
      "        '''\n",
      "        if is_training_on_gpu:\n",
      "            return self.one_hot_matrix[labels].cuda()\n",
      "        else:\n",
      "            return self.one_hot_matrix[labels]\n",
      "        \n",
      "    def init_hidden_states(self, batch_size):\n",
      "        '''\n",
      "        Initialize hidden and cell states\n",
      "        '''\n",
      "        weights = next(self.parameters()).data\n",
      "        \n",
      "        if is_training_on_gpu:\n",
      "            hidden_states = (weights.new(self.num_layers, batch_size, self.hidden_dim).zero_().cuda(), \n",
      "                             weights.new(self.num_layers, batch_size, self.hidden_dim).zero_().cuda())\n",
      "        else:\n",
      "            hidden_states = (weights.new(self.num_layers, batch_size, self.hidden_dim).zero_(), \n",
      "                             weights.new(self.num_layers, batch_size, self.hidden_dim).zero_())\n",
      "            \n",
      "        return hidden_states\n",
      "    \n",
      "    def forward(self, input, hidden_states):\n",
      "        '''\n",
      "        Define how data flows from one layer to the next\n",
      "        '''\n",
      "        batch_size = input.shape[0]\n",
      "        \n",
      "        one_hot_embedding = self.one_hot_encode(input)\n",
      "        lstm_output, hidden_states = self.lstm(one_hot_embedding, hidden_states)\n",
      "        lstm_output = lstm_output.contiguous().view(-1, self.hidden_dim)\n",
      "        lstm_output = self.dropout(lstm_output)\n",
      "        output = self.fc(lstm_output)\n",
      "        output = torch.sigmoid(output)\n",
      "        output = output.view(batch_size, -1)\n",
      "        output = output[:, -1]\n",
      "        \n",
      "        return output, hidden_states\n",
      "\n"
     ]
    }
   ],
   "source": [
    "lines = inspect.getsource(Classifier)\n",
    "print(lines)"
   ]
  },
  {
   "cell_type": "markdown",
   "metadata": {},
   "source": [
    "Initialize model"
   ]
  },
  {
   "cell_type": "code",
   "execution_count": 118,
   "metadata": {},
   "outputs": [],
   "source": [
    "sequence_length = max_name_length\n",
    "num_layers = 2\n",
    "vocab_size = len(vocab) + 1\n",
    "hidden_dim = 128\n",
    "output_size = 1\n",
    "classifier = Classifier(sequence_length, num_layers, vocab_size, hidden_dim, output_size)"
   ]
  },
  {
   "cell_type": "markdown",
   "metadata": {},
   "source": [
    "See model architecture"
   ]
  },
  {
   "cell_type": "code",
   "execution_count": 119,
   "metadata": {},
   "outputs": [
    {
     "name": "stdout",
     "output_type": "stream",
     "text": [
      "Classifier(\n",
      "  (lstm): LSTM(27, 128, num_layers=2, batch_first=True, dropout=0.5)\n",
      "  (fc): Linear(in_features=128, out_features=1, bias=True)\n",
      "  (dropout): Dropout(p=0.5)\n",
      ")\n"
     ]
    }
   ],
   "source": [
    "print(classifier)"
   ]
  },
  {
   "cell_type": "markdown",
   "metadata": {},
   "source": [
    "Use the learning rate finder to find a maximum bound for cyclical learning rate\n",
    "\n",
    "Use a factor of 10 or 20 less than the maximum bound for the minimum bound if only one cycle is used\n",
    "\n",
    "Reset model parameters before running LR finder"
   ]
  },
  {
   "cell_type": "code",
   "execution_count": 120,
   "metadata": {
    "scrolled": false
   },
   "outputs": [
    {
     "data": {
      "application/vnd.jupyter.widget-view+json": {
       "model_id": "82012fbfd21f451d9cd5c09a461a9a59",
       "version_major": 2,
       "version_minor": 0
      },
      "text/plain": [
       "HBox(children=(IntProgress(value=0, max=1000), HTML(value='')))"
      ]
     },
     "metadata": {},
     "output_type": "display_data"
    },
    {
     "name": "stdout",
     "output_type": "stream",
     "text": [
      "Stopping early, the loss has diverged\n",
      "\n",
      "Learning rate search finished. See the graph with {finder_name}.plot()\n"
     ]
    }
   ],
   "source": [
    "device = 'cuda' if is_training_on_gpu else 'cpu'\n",
    "start_lr = 1e-6\n",
    "criterion = nn.BCELoss()\n",
    "optimizer = torch.optim.Adam(classifier.parameters(), lr=start_lr)\n",
    "lr_finder = LRFinder(classifier, optimizer, criterion, device=device)\n",
    "lr_finder.range_test(train_loader, end_lr=10, num_iter=1000, step_mode='exp')"
   ]
  },
  {
   "cell_type": "code",
   "execution_count": 121,
   "metadata": {},
   "outputs": [
    {
     "data": {
      "image/png": "[encoded data removed]",
      "text/plain": [
       "<Figure size 432x288 with 1 Axes>"
      ]
     },
     "metadata": {},
     "output_type": "display_data"
    }
   ],
   "source": [
    "lr_finder.plot()"
   ]
  },
  {
   "cell_type": "markdown",
   "metadata": {},
   "source": [
    "Reset model parameters"
   ]
  },
  {
   "cell_type": "code",
   "execution_count": 122,
   "metadata": {},
   "outputs": [],
   "source": [
    "classifier = Classifier(sequence_length, num_layers, vocab_size, hidden_dim, output_size)\n",
    "optimizer = torch.optim.Adam(classifier.parameters(), lr=5e-3)"
   ]
  },
  {
   "cell_type": "code",
   "execution_count": 123,
   "metadata": {
    "scrolled": false
   },
   "outputs": [
    {
     "name": "stdout",
     "output_type": "stream",
     "text": [
      "Epoch 1/10\n",
      "Iteration 200 - Training loss: 0.3591613173484802\n",
      "Iteration 200 - Average validation loss: 0.3528477621078491\n",
      "Iteration 200 - Average validation accuracy: 0.8453091397849463\n",
      "Epoch 1/10\n",
      "Iteration 400 - Training loss: 0.4155953526496887\n",
      "Iteration 400 - Average validation loss: 0.3357024027903875\n",
      "Iteration 400 - Average validation accuracy: 0.8556216397849461\n",
      "Epoch 2/10\n",
      "Iteration 600 - Training loss: 0.30108514428138733\n",
      "Iteration 600 - Average validation loss: 0.3187419114510218\n",
      "Iteration 600 - Average validation accuracy: 0.8635920698924732\n",
      "Epoch 2/10\n",
      "Iteration 800 - Training loss: 0.3315337300300598\n",
      "Iteration 800 - Average validation loss: 0.31392023622989657\n",
      "Iteration 800 - Average validation accuracy: 0.8618985215053764\n",
      "Epoch 2/10\n",
      "Iteration 1000 - Training loss: 0.4186011254787445\n",
      "Iteration 1000 - Average validation loss: 0.3057253982623418\n",
      "Iteration 1000 - Average validation accuracy: 0.8713004032258065\n",
      "Epoch 3/10\n",
      "Iteration 1200 - Training loss: 0.20772229135036469\n",
      "Iteration 1200 - Average validation loss: 0.3266064029932022\n",
      "Iteration 1200 - Average validation accuracy: 0.8593481182795699\n",
      "Epoch 3/10\n",
      "Iteration 1400 - Training loss: 0.33350783586502075\n",
      "Iteration 1400 - Average validation loss: 0.3117054432630539\n",
      "Iteration 1400 - Average validation accuracy: 0.8636424731182795\n",
      "Epoch 3/10\n",
      "Iteration 1600 - Training loss: 0.2820073366165161\n",
      "Iteration 1600 - Average validation loss: 0.31026228070259093\n",
      "Iteration 1600 - Average validation accuracy: 0.8633434139784947\n",
      "Epoch 4/10\n",
      "Iteration 1800 - Training loss: 0.3147732615470886\n",
      "Iteration 1800 - Average validation loss: 0.29716274003187815\n",
      "Iteration 1800 - Average validation accuracy: 0.8726276881720431\n",
      "Epoch 4/10\n",
      "Iteration 2000 - Training loss: 0.1900452971458435\n",
      "Iteration 2000 - Average validation loss: 0.31553279896577197\n",
      "Iteration 2000 - Average validation accuracy: 0.8679032258064516\n",
      "Epoch 4/10\n",
      "Iteration 2200 - Training loss: 0.29985442757606506\n",
      "Iteration 2200 - Average validation loss: 0.31812818109989166\n",
      "Iteration 2200 - Average validation accuracy: 0.8645161290322582\n",
      "Epoch 5/10\n",
      "Iteration 2400 - Training loss: 0.2973334491252899\n",
      "Iteration 2400 - Average validation loss: 0.31278921763102213\n",
      "Iteration 2400 - Average validation accuracy: 0.8680443548387098\n",
      "Epoch 5/10\n",
      "Iteration 2600 - Training loss: 0.24824395775794983\n",
      "Iteration 2600 - Average validation loss: 0.2854703466097514\n",
      "Iteration 2600 - Average validation accuracy: 0.8798689516129032\n",
      "Epoch 5/10\n",
      "Iteration 2800 - Training loss: 0.2913368344306946\n",
      "Iteration 2800 - Average validation loss: 0.28250821530818937\n",
      "Iteration 2800 - Average validation accuracy: 0.8799596774193549\n",
      "Epoch 6/10\n",
      "Iteration 3000 - Training loss: 0.26668962836265564\n",
      "Iteration 3000 - Average validation loss: 0.29078869342803954\n",
      "Iteration 3000 - Average validation accuracy: 0.8749327956989248\n",
      "Epoch 6/10\n",
      "Iteration 3200 - Training loss: 0.24578295648097992\n",
      "Iteration 3200 - Average validation loss: 0.3013278329372406\n",
      "Iteration 3200 - Average validation accuracy: 0.8710147849462366\n",
      "Epoch 6/10\n",
      "Iteration 3400 - Training loss: 0.22034311294555664\n",
      "Iteration 3400 - Average validation loss: 0.29532324274381\n",
      "Iteration 3400 - Average validation accuracy: 0.8754536290322581\n",
      "Epoch 7/10\n",
      "Iteration 3600 - Training loss: 0.23624193668365479\n",
      "Iteration 3600 - Average validation loss: 0.29720608671506243\n",
      "Iteration 3600 - Average validation accuracy: 0.8769119623655914\n",
      "Epoch 7/10\n",
      "Iteration 3800 - Training loss: 0.23079457879066467\n",
      "Iteration 3800 - Average validation loss: 0.29541945596536\n",
      "Iteration 3800 - Average validation accuracy: 0.8783971774193549\n",
      "Epoch 7/10\n",
      "Iteration 4000 - Training loss: 0.1850375533103943\n",
      "Iteration 4000 - Average validation loss: 0.2969601724545161\n",
      "Iteration 4000 - Average validation accuracy: 0.8774731182795699\n",
      "Epoch 8/10\n",
      "Iteration 4200 - Training loss: 0.1825467199087143\n",
      "Iteration 4200 - Average validation loss: 0.3233980975548426\n",
      "Iteration 4200 - Average validation accuracy: 0.8724327956989248\n",
      "Epoch 8/10\n",
      "Iteration 4400 - Training loss: 0.2096467763185501\n",
      "Iteration 4400 - Average validation loss: 0.3086101905504863\n",
      "Iteration 4400 - Average validation accuracy: 0.8751411290322582\n",
      "Epoch 8/10\n",
      "Iteration 4600 - Training loss: 0.19057852029800415\n",
      "Iteration 4600 - Average validation loss: 0.3163327107826869\n",
      "Iteration 4600 - Average validation accuracy: 0.8744119623655915\n",
      "Epoch 9/10\n",
      "Iteration 4800 - Training loss: 0.18798218667507172\n",
      "Iteration 4800 - Average validation loss: 0.3086616404851278\n",
      "Iteration 4800 - Average validation accuracy: 0.8814180107526882\n",
      "Epoch 9/10\n",
      "Iteration 5000 - Training loss: 0.28825604915618896\n",
      "Iteration 5000 - Average validation loss: 0.29932802001635234\n",
      "Iteration 5000 - Average validation accuracy: 0.8751814516129033\n",
      "Epoch 9/10\n",
      "Iteration 5200 - Training loss: 0.2554428279399872\n",
      "Iteration 5200 - Average validation loss: 0.32393833438555397\n",
      "Iteration 5200 - Average validation accuracy: 0.8738911290322581\n",
      "Epoch 10/10\n",
      "Iteration 5400 - Training loss: 0.19048172235488892\n",
      "Iteration 5400 - Average validation loss: 0.3162514938910802\n",
      "Iteration 5400 - Average validation accuracy: 0.8760013440860216\n",
      "Epoch 10/10\n",
      "Iteration 5600 - Training loss: 0.18180565536022186\n",
      "Iteration 5600 - Average validation loss: 0.3293256588776906\n",
      "Iteration 5600 - Average validation accuracy: 0.8714684139784947\n",
      "Epoch 10/10\n",
      "Iteration 5800 - Training loss: 0.14768856763839722\n",
      "Iteration 5800 - Average validation loss: 0.3138278490304947\n",
      "Iteration 5800 - Average validation accuracy: 0.8797513440860215\n"
     ]
    }
   ],
   "source": [
    "epochs = 10\n",
    "counter = 0\n",
    "print_every_n_iterations = 200\n",
    "max_grad_norm = 5\n",
    "\n",
    "# transfer model to the appropriate device\n",
    "if is_training_on_gpu:\n",
    "    classifier.cuda()\n",
    "\n",
    "# set the model to training mode\n",
    "classifier.train()\n",
    "\n",
    "# stores losses for plotting later\n",
    "train_losses = []\n",
    "valid_losses = []\n",
    "\n",
    "for epoch in range(epochs):\n",
    "    \n",
    "    for inputs, labels in train_loader:\n",
    "        # keep track of number of iterations\n",
    "        counter += 1\n",
    "        \n",
    "        # transfer inputs and labels to the appropriate device\n",
    "        if is_training_on_gpu:\n",
    "            inputs, labels = inputs.cuda(), labels.cuda()\n",
    "        \n",
    "        # reset hidden states\n",
    "        hidden_states = classifier.init_hidden_states(inputs.shape[0])\n",
    "        \n",
    "        # zero accumulated gradients\n",
    "        classifier.zero_grad()\n",
    "        \n",
    "        # get the outputs from the model\n",
    "        outputs, _ = classifier(inputs, hidden_states)\n",
    "        \n",
    "        # calculate loss\n",
    "        loss = criterion(outputs.squeeze(), labels.float())\n",
    "        \n",
    "        # backpropagation\n",
    "        loss.backward()\n",
    "        \n",
    "        # clip gradients\n",
    "        nn.utils.clip_grad_norm_(classifier.parameters(), max_grad_norm)\n",
    "        \n",
    "        # apply gradients\n",
    "        optimizer.step()\n",
    "        \n",
    "        if counter % print_every_n_iterations == 0:\n",
    "            # accumulate training loss\n",
    "            train_losses.append(loss)\n",
    "            \n",
    "            print('Epoch {}/{}'.format(epoch+1, epochs))\n",
    "            print('Iteration {} - Training loss: {}'.format(counter, loss))\n",
    "            \n",
    "            # set the model to validation mode\n",
    "            classifier.eval()\n",
    "            \n",
    "            total_valid_loss = 0.\n",
    "            total_valid_accuracy = 0.\n",
    "            \n",
    "            for inputs, labels in valid_loader:\n",
    "                # transfer inputs and labels to the appropriate device\n",
    "                if is_training_on_gpu:\n",
    "                    inputs, labels = inputs.cuda(), labels.cuda()\n",
    "                    \n",
    "                # reset hidden states\n",
    "                hidden_states = classifier.init_hidden_states(inputs.shape[0])\n",
    "                \n",
    "                # get the outputs from the model\n",
    "                outputs, _ = classifier(inputs, hidden_states)\n",
    "                \n",
    "                # calculate loss\n",
    "                loss = criterion(outputs.squeeze(), labels.float())\n",
    "                total_valid_loss += loss.item()\n",
    "                \n",
    "                # calculate accuracy\n",
    "                final_outputs = outputs.squeeze().round().cpu().data.numpy()\n",
    "                final_labels = labels.cpu().data.numpy()\n",
    "                error_rate = np.sum(np.absolute(final_outputs - final_labels)) / len(final_outputs)\n",
    "                accuracy = 1 - error_rate\n",
    "                total_valid_accuracy += accuracy\n",
    "                \n",
    "            average_valid_loss = total_valid_loss / len(valid_loader)\n",
    "            print('Iteration {} - Average validation loss: {}'.format(counter, average_valid_loss))\n",
    "            \n",
    "            # accumulate validation loss\n",
    "            valid_losses.append(average_valid_loss)\n",
    "            \n",
    "            average_valid_accuracy = total_valid_accuracy / len(valid_loader)\n",
    "            print('Iteration {} - Average validation accuracy: {}'.format(counter, average_valid_accuracy))\n",
    "                \n",
    "            # reset the model to training mode\n",
    "            classifier.train()\n",
    "                "
   ]
  },
  {
   "cell_type": "markdown",
   "metadata": {},
   "source": [
    "Plot iterations x losses"
   ]
  },
  {
   "cell_type": "code",
   "execution_count": 124,
   "metadata": {},
   "outputs": [
    {
     "data": {
      "image/png": "[encoded data removed]",
      "text/plain": [
       "<Figure size 432x288 with 1 Axes>"
      ]
     },
     "metadata": {},
     "output_type": "display_data"
    }
   ],
   "source": [
    "plt.plot(np.arange(len(train_losses)) * print_every_n_iterations, train_losses, color='orange', label='training loss')\n",
    "plt.plot(np.arange(len(valid_losses)) * print_every_n_iterations, valid_losses, color='blue', label='validation loss')\n",
    "plt.xlabel('Iterations')\n",
    "plt.ylabel('Loss')\n",
    "plt.legend(loc='upper right')\n",
    "plt.show()"
   ]
  },
  {
   "cell_type": "markdown",
   "metadata": {},
   "source": [
    "Save model for inference"
   ]
  },
  {
   "cell_type": "code",
   "execution_count": 125,
   "metadata": {},
   "outputs": [],
   "source": [
    "torch.save({\n",
    "    'sequence_length': sequence_length,\n",
    "    'num_layers': num_layers,\n",
    "    'vocab_size': vocab_size,\n",
    "    'hidden_dim': hidden_dim,\n",
    "    'output_size': output_size,\n",
    "    'model_state_dict': classifier.state_dict()\n",
    "}, constants.MODEL_PATH)"
   ]
  },
  {
   "cell_type": "markdown",
   "metadata": {},
   "source": [
    "See how the model performs on the validation set"
   ]
  },
  {
   "cell_type": "code",
   "execution_count": 126,
   "metadata": {},
   "outputs": [],
   "source": [
    "valid_accuracy, all_valid_outputs, all_valid_labels = helpers.get_model_performance(classifier,\n",
    "                                                                                    valid_loader,\n",
    "                                                                                    is_training_on_gpu)"
   ]
  },
  {
   "cell_type": "code",
   "execution_count": 127,
   "metadata": {},
   "outputs": [
    {
     "name": "stdout",
     "output_type": "stream",
     "text": [
      "Validation accuracy: 0.8777228243712512\n"
     ]
    }
   ],
   "source": [
    "print('Validation accuracy: {}'.format(valid_accuracy))"
   ]
  },
  {
   "cell_type": "code",
   "execution_count": 128,
   "metadata": {},
   "outputs": [
    {
     "data": {
      "image/png": "[encoded data removed]",
      "text/plain": [
       "<Figure size 720x504 with 2 Axes>"
      ]
     },
     "metadata": {},
     "output_type": "display_data"
    }
   ],
   "source": [
    "helpers.plot_confusion_matrix(confusion_matrix(all_valid_labels, all_valid_outputs))"
   ]
  },
  {
   "cell_type": "markdown",
   "metadata": {},
   "source": [
    "See how the model performs on the test set"
   ]
  },
  {
   "cell_type": "code",
   "execution_count": 129,
   "metadata": {},
   "outputs": [],
   "source": [
    "test_accuracy, all_test_outputs, all_test_labels = helpers.get_model_performance(classifier,\n",
    "                                                                                 test_loader,\n",
    "                                                                                 is_training_on_gpu)"
   ]
  },
  {
   "cell_type": "code",
   "execution_count": 130,
   "metadata": {},
   "outputs": [
    {
     "name": "stdout",
     "output_type": "stream",
     "text": [
      "Test accuracy: 0.8698305798168999\n"
     ]
    }
   ],
   "source": [
    "print('Test accuracy: {}'.format(test_accuracy))"
   ]
  },
  {
   "cell_type": "code",
   "execution_count": 131,
   "metadata": {},
   "outputs": [
    {
     "data": {
      "image/png": "[encoded data removed]",
      "text/plain": [
       "<Figure size 720x504 with 2 Axes>"
      ]
     },
     "metadata": {},
     "output_type": "display_data"
    }
   ],
   "source": [
    "helpers.plot_confusion_matrix(confusion_matrix(all_test_labels, all_test_outputs))"
   ]
  },
  {
   "cell_type": "markdown",
   "metadata": {},
   "source": [
    "Inference"
   ]
  },
  {
   "cell_type": "code",
   "execution_count": 132,
   "metadata": {},
   "outputs": [
    {
     "name": "stdout",
     "output_type": "stream",
     "text": [
      "Margot is female\n"
     ]
    }
   ],
   "source": [
    "test_name = 'Margot'\n",
    "print('{} is {}'.format(test_name, helpers.infer_gender_from_name(test_name, \n",
    "                                                                  sequence_length, \n",
    "                                                                  vocab_to_int_map, \n",
    "                                                                  classifier, \n",
    "                                                                  is_training_on_gpu)))"
   ]
  }
 ],
 "metadata": {
  "kernelspec": {
   "display_name": "Python 3",
   "language": "python",
   "name": "python3"
  },
  "language_info": {
   "codemirror_mode": {
    "name": "ipython",
    "version": 3
   },
   "file_extension": ".py",
   "mimetype": "text/x-python",
   "name": "python",
   "nbconvert_exporter": "python",
   "pygments_lexer": "ipython3",
   "version": "3.7.1"
  }
 },
 "nbformat": 4,
 "nbformat_minor": 2
}
