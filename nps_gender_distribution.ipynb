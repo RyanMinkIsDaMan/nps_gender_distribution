{
 "cells": [
  {
   "cell_type": "markdown",
   "metadata": {},
   "source": [
    "# Gender Distribution of National Park Service Employees"
   ]
  },
  {
   "cell_type": "markdown",
   "metadata": {},
   "source": [
    "Import libraries"
   ]
  },
  {
   "cell_type": "code",
   "execution_count": 247,
   "metadata": {},
   "outputs": [],
   "source": [
    "import pandas as pd\n",
    "import torch\n",
    "import matplotlib.pyplot as plt\n",
    "\n",
    "from model import Classifier\n",
    "import constants\n",
    "import helpers\n",
    "\n",
    "import pickle"
   ]
  },
  {
   "cell_type": "markdown",
   "metadata": {},
   "source": [
    "Load the dataset and investigate the content"
   ]
  },
  {
   "cell_type": "code",
   "execution_count": 248,
   "metadata": {},
   "outputs": [
    {
     "data": {
      "text/html": [
       "<div>\n",
       "<style scoped>\n",
       "    .dataframe tbody tr th:only-of-type {\n",
       "        vertical-align: middle;\n",
       "    }\n",
       "\n",
       "    .dataframe tbody tr th {\n",
       "        vertical-align: top;\n",
       "    }\n",
       "\n",
       "    .dataframe thead th {\n",
       "        text-align: right;\n",
       "    }\n",
       "</style>\n",
       "<table border=\"1\" class=\"dataframe\">\n",
       "  <thead>\n",
       "    <tr style=\"text-align: right;\">\n",
       "      <th></th>\n",
       "      <th>Dept</th>\n",
       "      <th>Bur Or Ofc</th>\n",
       "      <th>Org Abrev1</th>\n",
       "      <th>Org Desc</th>\n",
       "      <th>Name Whole</th>\n",
       "      <th>Position Title Opm</th>\n",
       "      <th>Date Entered On Duty Bureau</th>\n",
       "      <th>Duty Station City Desc</th>\n",
       "      <th>Duty Station State</th>\n",
       "    </tr>\n",
       "  </thead>\n",
       "  <tbody>\n",
       "    <tr>\n",
       "      <th>0</th>\n",
       "      <td>IN</td>\n",
       "      <td>10</td>\n",
       "      <td>WRST</td>\n",
       "      <td>WRANGELL-ST ELIAS NTL PK&amp;PRESV</td>\n",
       "      <td>ABRAHAM, AMANDA D</td>\n",
       "      <td>BIOLOGICAL SCIENCE TECH (FISHERIES)</td>\n",
       "      <td>05/28/17</td>\n",
       "      <td>SLANA,ALASKA</td>\n",
       "      <td>AK</td>\n",
       "    </tr>\n",
       "    <tr>\n",
       "      <th>1</th>\n",
       "      <td>IN</td>\n",
       "      <td>10</td>\n",
       "      <td>WRST</td>\n",
       "      <td>WRANGELL-ST ELIAS NTL PK&amp;PRESV</td>\n",
       "      <td>ABRAHAM, JAMES L</td>\n",
       "      <td>MAINTENANCE WORKER</td>\n",
       "      <td>04/20/14</td>\n",
       "      <td>SLANA,ALASKA</td>\n",
       "      <td>AK</td>\n",
       "    </tr>\n",
       "    <tr>\n",
       "      <th>2</th>\n",
       "      <td>IN</td>\n",
       "      <td>10</td>\n",
       "      <td>SITK</td>\n",
       "      <td>SITKA NATL HISTORICAL PARK</td>\n",
       "      <td>ACKERMAN, KYLE T</td>\n",
       "      <td>PARK RANGER (INTERPRETATION)</td>\n",
       "      <td>04/16/17</td>\n",
       "      <td>SITKA,ALASKA</td>\n",
       "      <td>AK</td>\n",
       "    </tr>\n",
       "    <tr>\n",
       "      <th>3</th>\n",
       "      <td>IN</td>\n",
       "      <td>10</td>\n",
       "      <td>DENA</td>\n",
       "      <td>SUPT, PLANNING, ADMIN, DENA</td>\n",
       "      <td>ADAMS, DAWN B.</td>\n",
       "      <td>ENVIRONMENTAL PROTECTION SPECIALIST</td>\n",
       "      <td>NaN</td>\n",
       "      <td>DENALI PARK,ALASKA</td>\n",
       "      <td>AK</td>\n",
       "    </tr>\n",
       "    <tr>\n",
       "      <th>4</th>\n",
       "      <td>IN</td>\n",
       "      <td>10</td>\n",
       "      <td>DENA</td>\n",
       "      <td>MAINTENANCE, DENA</td>\n",
       "      <td>ADEY, ERIK T</td>\n",
       "      <td>ADMINISTRATIVE SUPPORT ASSISTANT (OA)</td>\n",
       "      <td>03/11/12</td>\n",
       "      <td>DENALI PARK,ALASKA</td>\n",
       "      <td>AK</td>\n",
       "    </tr>\n",
       "  </tbody>\n",
       "</table>\n",
       "</div>"
      ],
      "text/plain": [
       "  Dept Bur Or Ofc Org Abrev1                        Org Desc  \\\n",
       "0   IN         10       WRST  WRANGELL-ST ELIAS NTL PK&PRESV   \n",
       "1   IN         10       WRST  WRANGELL-ST ELIAS NTL PK&PRESV   \n",
       "2   IN         10       SITK      SITKA NATL HISTORICAL PARK   \n",
       "3   IN         10       DENA     SUPT, PLANNING, ADMIN, DENA   \n",
       "4   IN         10       DENA               MAINTENANCE, DENA   \n",
       "\n",
       "          Name Whole                     Position Title Opm  \\\n",
       "0  ABRAHAM, AMANDA D    BIOLOGICAL SCIENCE TECH (FISHERIES)   \n",
       "1   ABRAHAM, JAMES L                     MAINTENANCE WORKER   \n",
       "2   ACKERMAN, KYLE T           PARK RANGER (INTERPRETATION)   \n",
       "3     ADAMS, DAWN B.    ENVIRONMENTAL PROTECTION SPECIALIST   \n",
       "4       ADEY, ERIK T  ADMINISTRATIVE SUPPORT ASSISTANT (OA)   \n",
       "\n",
       "  Date Entered On Duty Bureau Duty Station City Desc Duty Station State   \n",
       "0                    05/28/17           SLANA,ALASKA                  AK  \n",
       "1                    04/20/14           SLANA,ALASKA                  AK  \n",
       "2                    04/16/17           SITKA,ALASKA                  AK  \n",
       "3                         NaN     DENALI PARK,ALASKA                  AK  \n",
       "4                    03/11/12     DENALI PARK,ALASKA                  AK  "
      ]
     },
     "execution_count": 248,
     "metadata": {},
     "output_type": "execute_result"
    }
   ],
   "source": [
    "df = pd.read_csv('data/FOIA-Employee-List-9-15-2017.csv')\n",
    "df.head()"
   ]
  },
  {
   "cell_type": "markdown",
   "metadata": {},
   "source": [
    "Only keep the `Name Whole` columns because that's all we need"
   ]
  },
  {
   "cell_type": "code",
   "execution_count": 249,
   "metadata": {},
   "outputs": [
    {
     "data": {
      "text/html": [
       "<div>\n",
       "<style scoped>\n",
       "    .dataframe tbody tr th:only-of-type {\n",
       "        vertical-align: middle;\n",
       "    }\n",
       "\n",
       "    .dataframe tbody tr th {\n",
       "        vertical-align: top;\n",
       "    }\n",
       "\n",
       "    .dataframe thead th {\n",
       "        text-align: right;\n",
       "    }\n",
       "</style>\n",
       "<table border=\"1\" class=\"dataframe\">\n",
       "  <thead>\n",
       "    <tr style=\"text-align: right;\">\n",
       "      <th></th>\n",
       "      <th>Name Whole</th>\n",
       "    </tr>\n",
       "  </thead>\n",
       "  <tbody>\n",
       "    <tr>\n",
       "      <th>0</th>\n",
       "      <td>ABRAHAM, AMANDA D</td>\n",
       "    </tr>\n",
       "    <tr>\n",
       "      <th>1</th>\n",
       "      <td>ABRAHAM, JAMES L</td>\n",
       "    </tr>\n",
       "    <tr>\n",
       "      <th>2</th>\n",
       "      <td>ACKERMAN, KYLE T</td>\n",
       "    </tr>\n",
       "    <tr>\n",
       "      <th>3</th>\n",
       "      <td>ADAMS, DAWN B.</td>\n",
       "    </tr>\n",
       "    <tr>\n",
       "      <th>4</th>\n",
       "      <td>ADEY, ERIK T</td>\n",
       "    </tr>\n",
       "  </tbody>\n",
       "</table>\n",
       "</div>"
      ],
      "text/plain": [
       "          Name Whole\n",
       "0  ABRAHAM, AMANDA D\n",
       "1   ABRAHAM, JAMES L\n",
       "2   ACKERMAN, KYLE T\n",
       "3     ADAMS, DAWN B.\n",
       "4       ADEY, ERIK T"
      ]
     },
     "execution_count": 249,
     "metadata": {},
     "output_type": "execute_result"
    }
   ],
   "source": [
    "name_df = df[['Name Whole']]\n",
    "name_df.head()"
   ]
  },
  {
   "cell_type": "markdown",
   "metadata": {},
   "source": [
    "See how many names there are"
   ]
  },
  {
   "cell_type": "code",
   "execution_count": 250,
   "metadata": {},
   "outputs": [
    {
     "data": {
      "text/plain": [
       "(23257, 1)"
      ]
     },
     "execution_count": 250,
     "metadata": {},
     "output_type": "execute_result"
    }
   ],
   "source": [
    "name_df.shape"
   ]
  },
  {
   "cell_type": "markdown",
   "metadata": {},
   "source": [
    "See if there are duplicates"
   ]
  },
  {
   "cell_type": "code",
   "execution_count": 251,
   "metadata": {},
   "outputs": [
    {
     "data": {
      "text/html": [
       "<div>\n",
       "<style scoped>\n",
       "    .dataframe tbody tr th:only-of-type {\n",
       "        vertical-align: middle;\n",
       "    }\n",
       "\n",
       "    .dataframe tbody tr th {\n",
       "        vertical-align: top;\n",
       "    }\n",
       "\n",
       "    .dataframe thead th {\n",
       "        text-align: right;\n",
       "    }\n",
       "</style>\n",
       "<table border=\"1\" class=\"dataframe\">\n",
       "  <thead>\n",
       "    <tr style=\"text-align: right;\">\n",
       "      <th></th>\n",
       "      <th>Name Whole</th>\n",
       "    </tr>\n",
       "  </thead>\n",
       "  <tbody>\n",
       "    <tr>\n",
       "      <th>953</th>\n",
       "      <td>NaN</td>\n",
       "    </tr>\n",
       "    <tr>\n",
       "      <th>954</th>\n",
       "      <td>Name Whole</td>\n",
       "    </tr>\n",
       "    <tr>\n",
       "      <th>1170</th>\n",
       "      <td>NaN</td>\n",
       "    </tr>\n",
       "    <tr>\n",
       "      <th>1171</th>\n",
       "      <td>Name Whole</td>\n",
       "    </tr>\n",
       "    <tr>\n",
       "      <th>1260</th>\n",
       "      <td>NaN</td>\n",
       "    </tr>\n",
       "    <tr>\n",
       "      <th>1261</th>\n",
       "      <td>Name Whole</td>\n",
       "    </tr>\n",
       "    <tr>\n",
       "      <th>1282</th>\n",
       "      <td>ADAMS, CHRISTOPHER J</td>\n",
       "    </tr>\n",
       "    <tr>\n",
       "      <th>1283</th>\n",
       "      <td>ADAMS, CHRISTOPHER J</td>\n",
       "    </tr>\n",
       "    <tr>\n",
       "      <th>1589</th>\n",
       "      <td>BEGAY, RAMONA</td>\n",
       "    </tr>\n",
       "    <tr>\n",
       "      <th>1590</th>\n",
       "      <td>BEGAY, RAMONA</td>\n",
       "    </tr>\n",
       "    <tr>\n",
       "      <th>1847</th>\n",
       "      <td>BROWN, WILLIAM J.</td>\n",
       "    </tr>\n",
       "    <tr>\n",
       "      <th>2539</th>\n",
       "      <td>EBERHARDY, ED R</td>\n",
       "    </tr>\n",
       "    <tr>\n",
       "      <th>2540</th>\n",
       "      <td>EBERHARDY, ED R</td>\n",
       "    </tr>\n",
       "    <tr>\n",
       "      <th>6559</th>\n",
       "      <td>NaN</td>\n",
       "    </tr>\n",
       "    <tr>\n",
       "      <th>6560</th>\n",
       "      <td>Name Whole</td>\n",
       "    </tr>\n",
       "    <tr>\n",
       "      <th>6887</th>\n",
       "      <td>CARROLL, MARK S</td>\n",
       "    </tr>\n",
       "    <tr>\n",
       "      <th>6888</th>\n",
       "      <td>CARROLL, MARK S</td>\n",
       "    </tr>\n",
       "    <tr>\n",
       "      <th>7198</th>\n",
       "      <td>FERGUSON, GARY L.</td>\n",
       "    </tr>\n",
       "    <tr>\n",
       "      <th>8818</th>\n",
       "      <td>WHITMAN, MEGHAN MARIE</td>\n",
       "    </tr>\n",
       "    <tr>\n",
       "      <th>8900</th>\n",
       "      <td>NaN</td>\n",
       "    </tr>\n",
       "    <tr>\n",
       "      <th>8901</th>\n",
       "      <td>Name Whole</td>\n",
       "    </tr>\n",
       "    <tr>\n",
       "      <th>9060</th>\n",
       "      <td>BROWN, WILLIAM J.</td>\n",
       "    </tr>\n",
       "    <tr>\n",
       "      <th>10207</th>\n",
       "      <td>NaN</td>\n",
       "    </tr>\n",
       "    <tr>\n",
       "      <th>10208</th>\n",
       "      <td>Name Whole</td>\n",
       "    </tr>\n",
       "    <tr>\n",
       "      <th>11329</th>\n",
       "      <td>GALLAGHER, JOHN T</td>\n",
       "    </tr>\n",
       "    <tr>\n",
       "      <th>11851</th>\n",
       "      <td>KELLY, ROBERT L</td>\n",
       "    </tr>\n",
       "    <tr>\n",
       "      <th>11852</th>\n",
       "      <td>KELLY, ROBERT L</td>\n",
       "    </tr>\n",
       "    <tr>\n",
       "      <th>12903</th>\n",
       "      <td>ROBERTS, JAMES R</td>\n",
       "    </tr>\n",
       "    <tr>\n",
       "      <th>13203</th>\n",
       "      <td>SMITH, BRYAN W</td>\n",
       "    </tr>\n",
       "    <tr>\n",
       "      <th>13674</th>\n",
       "      <td>WILSON, LISA M.</td>\n",
       "    </tr>\n",
       "    <tr>\n",
       "      <th>13756</th>\n",
       "      <td>NaN</td>\n",
       "    </tr>\n",
       "    <tr>\n",
       "      <th>13757</th>\n",
       "      <td>Name Whole</td>\n",
       "    </tr>\n",
       "    <tr>\n",
       "      <th>14270</th>\n",
       "      <td>RUSSO, MICHAEL ANTHONY</td>\n",
       "    </tr>\n",
       "    <tr>\n",
       "      <th>14425</th>\n",
       "      <td>NaN</td>\n",
       "    </tr>\n",
       "    <tr>\n",
       "      <th>14426</th>\n",
       "      <td>Name Whole</td>\n",
       "    </tr>\n",
       "    <tr>\n",
       "      <th>18129</th>\n",
       "      <td>ROBERTS, JAMES R</td>\n",
       "    </tr>\n",
       "    <tr>\n",
       "      <th>18861</th>\n",
       "      <td>TURNER, DAVID H</td>\n",
       "    </tr>\n",
       "    <tr>\n",
       "      <th>19171</th>\n",
       "      <td>WILSON, LISA M.</td>\n",
       "    </tr>\n",
       "    <tr>\n",
       "      <th>19301</th>\n",
       "      <td>NaN</td>\n",
       "    </tr>\n",
       "    <tr>\n",
       "      <th>19302</th>\n",
       "      <td>Name Whole</td>\n",
       "    </tr>\n",
       "    <tr>\n",
       "      <th>20050</th>\n",
       "      <td>FERGUSON, GARY L.</td>\n",
       "    </tr>\n",
       "    <tr>\n",
       "      <th>20139</th>\n",
       "      <td>GALLAGHER, JOHN T</td>\n",
       "    </tr>\n",
       "    <tr>\n",
       "      <th>21380</th>\n",
       "      <td>RUSSO, MICHAEL ANTHONY</td>\n",
       "    </tr>\n",
       "    <tr>\n",
       "      <th>21532</th>\n",
       "      <td>SMITH, BRYAN W</td>\n",
       "    </tr>\n",
       "    <tr>\n",
       "      <th>21778</th>\n",
       "      <td>TURNER, DAVID H</td>\n",
       "    </tr>\n",
       "    <tr>\n",
       "      <th>21919</th>\n",
       "      <td>WHITMAN, MEGHAN MARIE</td>\n",
       "    </tr>\n",
       "    <tr>\n",
       "      <th>22044</th>\n",
       "      <td>NaN</td>\n",
       "    </tr>\n",
       "    <tr>\n",
       "      <th>22045</th>\n",
       "      <td>Name Whole</td>\n",
       "    </tr>\n",
       "  </tbody>\n",
       "</table>\n",
       "</div>"
      ],
      "text/plain": [
       "                   Name Whole\n",
       "953                       NaN\n",
       "954                Name Whole\n",
       "1170                      NaN\n",
       "1171               Name Whole\n",
       "1260                      NaN\n",
       "1261               Name Whole\n",
       "1282     ADAMS, CHRISTOPHER J\n",
       "1283     ADAMS, CHRISTOPHER J\n",
       "1589            BEGAY, RAMONA\n",
       "1590            BEGAY, RAMONA\n",
       "1847        BROWN, WILLIAM J.\n",
       "2539          EBERHARDY, ED R\n",
       "2540          EBERHARDY, ED R\n",
       "6559                      NaN\n",
       "6560               Name Whole\n",
       "6887          CARROLL, MARK S\n",
       "6888          CARROLL, MARK S\n",
       "7198        FERGUSON, GARY L.\n",
       "8818    WHITMAN, MEGHAN MARIE\n",
       "8900                      NaN\n",
       "8901               Name Whole\n",
       "9060        BROWN, WILLIAM J.\n",
       "10207                     NaN\n",
       "10208              Name Whole\n",
       "11329       GALLAGHER, JOHN T\n",
       "11851         KELLY, ROBERT L\n",
       "11852         KELLY, ROBERT L\n",
       "12903        ROBERTS, JAMES R\n",
       "13203          SMITH, BRYAN W\n",
       "13674         WILSON, LISA M.\n",
       "13756                     NaN\n",
       "13757              Name Whole\n",
       "14270  RUSSO, MICHAEL ANTHONY\n",
       "14425                     NaN\n",
       "14426              Name Whole\n",
       "18129        ROBERTS, JAMES R\n",
       "18861         TURNER, DAVID H\n",
       "19171         WILSON, LISA M.\n",
       "19301                     NaN\n",
       "19302              Name Whole\n",
       "20050       FERGUSON, GARY L.\n",
       "20139       GALLAGHER, JOHN T\n",
       "21380  RUSSO, MICHAEL ANTHONY\n",
       "21532          SMITH, BRYAN W\n",
       "21778         TURNER, DAVID H\n",
       "21919   WHITMAN, MEGHAN MARIE\n",
       "22044                     NaN\n",
       "22045              Name Whole"
      ]
     },
     "execution_count": 251,
     "metadata": {},
     "output_type": "execute_result"
    }
   ],
   "source": [
    "names = name_df['Name Whole']\n",
    "name_df[names.isin(names[names.duplicated()])]"
   ]
  },
  {
   "cell_type": "markdown",
   "metadata": {},
   "source": [
    "We only have to remove `NaN` and `Name Whole` values since the rest of the duplicates correspond to different employees in different departments like below"
   ]
  },
  {
   "cell_type": "code",
   "execution_count": 252,
   "metadata": {},
   "outputs": [
    {
     "data": {
      "text/html": [
       "<div>\n",
       "<style scoped>\n",
       "    .dataframe tbody tr th:only-of-type {\n",
       "        vertical-align: middle;\n",
       "    }\n",
       "\n",
       "    .dataframe tbody tr th {\n",
       "        vertical-align: top;\n",
       "    }\n",
       "\n",
       "    .dataframe thead th {\n",
       "        text-align: right;\n",
       "    }\n",
       "</style>\n",
       "<table border=\"1\" class=\"dataframe\">\n",
       "  <thead>\n",
       "    <tr style=\"text-align: right;\">\n",
       "      <th></th>\n",
       "      <th>Dept</th>\n",
       "      <th>Bur Or Ofc</th>\n",
       "      <th>Org Abrev1</th>\n",
       "      <th>Org Desc</th>\n",
       "      <th>Name Whole</th>\n",
       "      <th>Position Title Opm</th>\n",
       "      <th>Date Entered On Duty Bureau</th>\n",
       "      <th>Duty Station City Desc</th>\n",
       "      <th>Duty Station State</th>\n",
       "    </tr>\n",
       "  </thead>\n",
       "  <tbody>\n",
       "    <tr>\n",
       "      <th>14270</th>\n",
       "      <td>IN</td>\n",
       "      <td>10</td>\n",
       "      <td>USPP</td>\n",
       "      <td>DC EAST-DISTRICT 4</td>\n",
       "      <td>RUSSO, MICHAEL ANTHONY</td>\n",
       "      <td>PRIVATE</td>\n",
       "      <td>01/31/10</td>\n",
       "      <td>WASHINGTON,DC</td>\n",
       "      <td>DC</td>\n",
       "    </tr>\n",
       "    <tr>\n",
       "      <th>21380</th>\n",
       "      <td>IN</td>\n",
       "      <td>10</td>\n",
       "      <td>SEAC</td>\n",
       "      <td>SE ARCHEOLOGICAL CENTER</td>\n",
       "      <td>RUSSO, MICHAEL ANTHONY</td>\n",
       "      <td>ARCHEOLOGIST</td>\n",
       "      <td>NaN</td>\n",
       "      <td>TALLAHASSEE,FLORIDA</td>\n",
       "      <td>FL</td>\n",
       "    </tr>\n",
       "  </tbody>\n",
       "</table>\n",
       "</div>"
      ],
      "text/plain": [
       "      Dept Bur Or Ofc Org Abrev1                 Org Desc  \\\n",
       "14270   IN         10       USPP       DC EAST-DISTRICT 4   \n",
       "21380   IN         10       SEAC  SE ARCHEOLOGICAL CENTER   \n",
       "\n",
       "                   Name Whole Position Title Opm Date Entered On Duty Bureau  \\\n",
       "14270  RUSSO, MICHAEL ANTHONY            PRIVATE                    01/31/10   \n",
       "21380  RUSSO, MICHAEL ANTHONY       ARCHEOLOGIST                         NaN   \n",
       "\n",
       "      Duty Station City Desc Duty Station State   \n",
       "14270          WASHINGTON,DC                  DC  \n",
       "21380    TALLAHASSEE,FLORIDA                  FL  "
      ]
     },
     "execution_count": 252,
     "metadata": {},
     "output_type": "execute_result"
    }
   ],
   "source": [
    "df[df['Name Whole'] == 'RUSSO, MICHAEL ANTHONY']"
   ]
  },
  {
   "cell_type": "code",
   "execution_count": 253,
   "metadata": {},
   "outputs": [],
   "source": [
    "name_df = name_df.dropna(axis=0, how='all')\n",
    "name_df = name_df[name_df['Name Whole'] != 'Name Whole']"
   ]
  },
  {
   "cell_type": "markdown",
   "metadata": {},
   "source": [
    "Ensure all the undesired rows are removed"
   ]
  },
  {
   "cell_type": "code",
   "execution_count": 254,
   "metadata": {},
   "outputs": [
    {
     "data": {
      "text/html": [
       "<div>\n",
       "<style scoped>\n",
       "    .dataframe tbody tr th:only-of-type {\n",
       "        vertical-align: middle;\n",
       "    }\n",
       "\n",
       "    .dataframe tbody tr th {\n",
       "        vertical-align: top;\n",
       "    }\n",
       "\n",
       "    .dataframe thead th {\n",
       "        text-align: right;\n",
       "    }\n",
       "</style>\n",
       "<table border=\"1\" class=\"dataframe\">\n",
       "  <thead>\n",
       "    <tr style=\"text-align: right;\">\n",
       "      <th></th>\n",
       "      <th>Name Whole</th>\n",
       "    </tr>\n",
       "  </thead>\n",
       "  <tbody>\n",
       "    <tr>\n",
       "      <th>1282</th>\n",
       "      <td>ADAMS, CHRISTOPHER J</td>\n",
       "    </tr>\n",
       "    <tr>\n",
       "      <th>1283</th>\n",
       "      <td>ADAMS, CHRISTOPHER J</td>\n",
       "    </tr>\n",
       "    <tr>\n",
       "      <th>1589</th>\n",
       "      <td>BEGAY, RAMONA</td>\n",
       "    </tr>\n",
       "    <tr>\n",
       "      <th>1590</th>\n",
       "      <td>BEGAY, RAMONA</td>\n",
       "    </tr>\n",
       "    <tr>\n",
       "      <th>1847</th>\n",
       "      <td>BROWN, WILLIAM J.</td>\n",
       "    </tr>\n",
       "    <tr>\n",
       "      <th>2539</th>\n",
       "      <td>EBERHARDY, ED R</td>\n",
       "    </tr>\n",
       "    <tr>\n",
       "      <th>2540</th>\n",
       "      <td>EBERHARDY, ED R</td>\n",
       "    </tr>\n",
       "    <tr>\n",
       "      <th>6887</th>\n",
       "      <td>CARROLL, MARK S</td>\n",
       "    </tr>\n",
       "    <tr>\n",
       "      <th>6888</th>\n",
       "      <td>CARROLL, MARK S</td>\n",
       "    </tr>\n",
       "    <tr>\n",
       "      <th>7198</th>\n",
       "      <td>FERGUSON, GARY L.</td>\n",
       "    </tr>\n",
       "    <tr>\n",
       "      <th>8818</th>\n",
       "      <td>WHITMAN, MEGHAN MARIE</td>\n",
       "    </tr>\n",
       "    <tr>\n",
       "      <th>9060</th>\n",
       "      <td>BROWN, WILLIAM J.</td>\n",
       "    </tr>\n",
       "    <tr>\n",
       "      <th>11329</th>\n",
       "      <td>GALLAGHER, JOHN T</td>\n",
       "    </tr>\n",
       "    <tr>\n",
       "      <th>11851</th>\n",
       "      <td>KELLY, ROBERT L</td>\n",
       "    </tr>\n",
       "    <tr>\n",
       "      <th>11852</th>\n",
       "      <td>KELLY, ROBERT L</td>\n",
       "    </tr>\n",
       "    <tr>\n",
       "      <th>12903</th>\n",
       "      <td>ROBERTS, JAMES R</td>\n",
       "    </tr>\n",
       "    <tr>\n",
       "      <th>13203</th>\n",
       "      <td>SMITH, BRYAN W</td>\n",
       "    </tr>\n",
       "    <tr>\n",
       "      <th>13674</th>\n",
       "      <td>WILSON, LISA M.</td>\n",
       "    </tr>\n",
       "    <tr>\n",
       "      <th>14270</th>\n",
       "      <td>RUSSO, MICHAEL ANTHONY</td>\n",
       "    </tr>\n",
       "    <tr>\n",
       "      <th>18129</th>\n",
       "      <td>ROBERTS, JAMES R</td>\n",
       "    </tr>\n",
       "    <tr>\n",
       "      <th>18861</th>\n",
       "      <td>TURNER, DAVID H</td>\n",
       "    </tr>\n",
       "    <tr>\n",
       "      <th>19171</th>\n",
       "      <td>WILSON, LISA M.</td>\n",
       "    </tr>\n",
       "    <tr>\n",
       "      <th>20050</th>\n",
       "      <td>FERGUSON, GARY L.</td>\n",
       "    </tr>\n",
       "    <tr>\n",
       "      <th>20139</th>\n",
       "      <td>GALLAGHER, JOHN T</td>\n",
       "    </tr>\n",
       "    <tr>\n",
       "      <th>21380</th>\n",
       "      <td>RUSSO, MICHAEL ANTHONY</td>\n",
       "    </tr>\n",
       "    <tr>\n",
       "      <th>21532</th>\n",
       "      <td>SMITH, BRYAN W</td>\n",
       "    </tr>\n",
       "    <tr>\n",
       "      <th>21778</th>\n",
       "      <td>TURNER, DAVID H</td>\n",
       "    </tr>\n",
       "    <tr>\n",
       "      <th>21919</th>\n",
       "      <td>WHITMAN, MEGHAN MARIE</td>\n",
       "    </tr>\n",
       "  </tbody>\n",
       "</table>\n",
       "</div>"
      ],
      "text/plain": [
       "                   Name Whole\n",
       "1282     ADAMS, CHRISTOPHER J\n",
       "1283     ADAMS, CHRISTOPHER J\n",
       "1589            BEGAY, RAMONA\n",
       "1590            BEGAY, RAMONA\n",
       "1847        BROWN, WILLIAM J.\n",
       "2539          EBERHARDY, ED R\n",
       "2540          EBERHARDY, ED R\n",
       "6887          CARROLL, MARK S\n",
       "6888          CARROLL, MARK S\n",
       "7198        FERGUSON, GARY L.\n",
       "8818    WHITMAN, MEGHAN MARIE\n",
       "9060        BROWN, WILLIAM J.\n",
       "11329       GALLAGHER, JOHN T\n",
       "11851         KELLY, ROBERT L\n",
       "11852         KELLY, ROBERT L\n",
       "12903        ROBERTS, JAMES R\n",
       "13203          SMITH, BRYAN W\n",
       "13674         WILSON, LISA M.\n",
       "14270  RUSSO, MICHAEL ANTHONY\n",
       "18129        ROBERTS, JAMES R\n",
       "18861         TURNER, DAVID H\n",
       "19171         WILSON, LISA M.\n",
       "20050       FERGUSON, GARY L.\n",
       "20139       GALLAGHER, JOHN T\n",
       "21380  RUSSO, MICHAEL ANTHONY\n",
       "21532          SMITH, BRYAN W\n",
       "21778         TURNER, DAVID H\n",
       "21919   WHITMAN, MEGHAN MARIE"
      ]
     },
     "execution_count": 254,
     "metadata": {},
     "output_type": "execute_result"
    }
   ],
   "source": [
    "names = name_df['Name Whole']\n",
    "name_df[names.isin(names[names.duplicated()])]"
   ]
  },
  {
   "cell_type": "markdown",
   "metadata": {},
   "source": [
    "Convert name column into list"
   ]
  },
  {
   "cell_type": "code",
   "execution_count": 255,
   "metadata": {},
   "outputs": [],
   "source": [
    "names = list(name_df['Name Whole'])"
   ]
  },
  {
   "cell_type": "markdown",
   "metadata": {},
   "source": [
    "Investigate how the names are formatted"
   ]
  },
  {
   "cell_type": "code",
   "execution_count": 256,
   "metadata": {},
   "outputs": [
    {
     "data": {
      "text/plain": [
       "['ABRAHAM, AMANDA D',\n",
       " 'ABRAHAM, JAMES L',\n",
       " 'ACKERMAN, KYLE T',\n",
       " 'ADAMS, DAWN B.',\n",
       " 'ADEY, ERIK T',\n",
       " 'ADKISSON, KENNETH L.',\n",
       " 'ADLESPERGER, KENT L',\n",
       " 'ADRIAN, GEOFFREY M L',\n",
       " 'AIUPPA, ANTHONY A',\n",
       " 'AIUPPA, EMILY J',\n",
       " 'ALDEN, SHARON C',\n",
       " 'ALEXANDER SHELKO, CHERILYN A D',\n",
       " 'ALEXANDER, DAVID C',\n",
       " 'ALEXIA, MICHAEL J',\n",
       " 'ALEXIE, GEORGE E']"
      ]
     },
     "execution_count": 256,
     "metadata": {},
     "output_type": "execute_result"
    }
   ],
   "source": [
    "names[:15]"
   ]
  },
  {
   "cell_type": "markdown",
   "metadata": {},
   "source": [
    "Extract the first names"
   ]
  },
  {
   "cell_type": "code",
   "execution_count": 257,
   "metadata": {},
   "outputs": [
    {
     "data": {
      "text/plain": [
       "['amanda',\n",
       " 'james',\n",
       " 'kyle',\n",
       " 'dawn',\n",
       " 'erik',\n",
       " 'kenneth',\n",
       " 'kent',\n",
       " 'geoffrey',\n",
       " 'anthony',\n",
       " 'emily',\n",
       " 'sharon',\n",
       " 'cherilyn',\n",
       " 'david',\n",
       " 'michael',\n",
       " 'george']"
      ]
     },
     "execution_count": 257,
     "metadata": {},
     "output_type": "execute_result"
    }
   ],
   "source": [
    "first_names = []\n",
    "\n",
    "for name in names:\n",
    "    name = str(name).lower()\n",
    "    name = name.replace('-', '')\n",
    "    name = name.replace(\"'\", '')\n",
    "    name = name.split(',')[1].strip()\n",
    "    name = name.split(' ')[0]\n",
    "    \n",
    "    first_names.append(name)\n",
    "\n",
    "first_names[:15]"
   ]
  },
  {
   "cell_type": "markdown",
   "metadata": {},
   "source": [
    "Load vocab_to_int map"
   ]
  },
  {
   "cell_type": "code",
   "execution_count": 258,
   "metadata": {},
   "outputs": [
    {
     "data": {
      "text/plain": [
       "{'a': 1,\n",
       " 'e': 2,\n",
       " 'n': 3,\n",
       " 'i': 4,\n",
       " 'r': 5,\n",
       " 'l': 6,\n",
       " 's': 7,\n",
       " 'h': 8,\n",
       " 'y': 9,\n",
       " 'o': 10,\n",
       " 't': 11,\n",
       " 'd': 12,\n",
       " 'm': 13,\n",
       " 'k': 14,\n",
       " 'c': 15,\n",
       " 'u': 16,\n",
       " 'j': 17,\n",
       " 'b': 18,\n",
       " 'v': 19,\n",
       " 'g': 20,\n",
       " 'z': 21,\n",
       " 'w': 22,\n",
       " 'p': 23,\n",
       " 'f': 24,\n",
       " 'q': 25,\n",
       " 'x': 26}"
      ]
     },
     "execution_count": 258,
     "metadata": {},
     "output_type": "execute_result"
    }
   ],
   "source": [
    "with open(constants.VOCAB_TO_INT_MAP_PATH, 'rb') as handle:\n",
    "    vocab_to_int_map = pickle.load(handle)\n",
    "    \n",
    "vocab_to_int_map"
   ]
  },
  {
   "cell_type": "markdown",
   "metadata": {},
   "source": [
    "Load model"
   ]
  },
  {
   "cell_type": "code",
   "execution_count": 259,
   "metadata": {},
   "outputs": [],
   "source": [
    "checkpoint = torch.load(constants.MODEL_PATH)\n",
    "sequence_length = checkpoint['sequence_length']\n",
    "num_layers = checkpoint['num_layers']\n",
    "vocab_size = checkpoint['vocab_size']\n",
    "hidden_dim = checkpoint['hidden_dim']\n",
    "output_size = checkpoint['output_size']\n",
    "model_state_dict = checkpoint['model_state_dict']\n",
    "\n",
    "classifier = Classifier(sequence_length, num_layers, vocab_size, hidden_dim, output_size)\n",
    "classifier.load_state_dict(model_state_dict)"
   ]
  },
  {
   "cell_type": "code",
   "execution_count": 260,
   "metadata": {},
   "outputs": [
    {
     "name": "stdout",
     "output_type": "stream",
     "text": [
      "Classifier(\n",
      "  (lstm): LSTM(27, 128, num_layers=2, batch_first=True, dropout=0.5)\n",
      "  (fc): Linear(in_features=128, out_features=1, bias=True)\n",
      "  (dropout): Dropout(p=0.5)\n",
      ")\n"
     ]
    }
   ],
   "source": [
    "print(classifier)"
   ]
  },
  {
   "cell_type": "markdown",
   "metadata": {},
   "source": [
    "Check if we are training on a GPU or CPU"
   ]
  },
  {
   "cell_type": "code",
   "execution_count": 261,
   "metadata": {},
   "outputs": [
    {
     "name": "stdout",
     "output_type": "stream",
     "text": [
      "Training on GPU\n"
     ]
    }
   ],
   "source": [
    "is_training_on_gpu = torch.cuda.is_available()\n",
    "\n",
    "if is_training_on_gpu:\n",
    "    print('Training on GPU')\n",
    "    classifier.cuda()\n",
    "else:\n",
    "    print('Training on CPU')\n",
    "    classifier.cpu()"
   ]
  },
  {
   "cell_type": "markdown",
   "metadata": {},
   "source": [
    "Test if the model works"
   ]
  },
  {
   "cell_type": "code",
   "execution_count": 262,
   "metadata": {},
   "outputs": [
    {
     "name": "stdout",
     "output_type": "stream",
     "text": [
      "Alesandro is male\n"
     ]
    }
   ],
   "source": [
    "test_name = 'Alesandro'\n",
    "print('{} is {}'.format(test_name, helpers.infer_gender_from_name(test_name, \n",
    "                                                                  sequence_length, \n",
    "                                                                  vocab_to_int_map, \n",
    "                                                                  classifier, \n",
    "                                                                  is_training_on_gpu)))"
   ]
  },
  {
   "cell_type": "code",
   "execution_count": 263,
   "metadata": {},
   "outputs": [],
   "source": [
    "genders = []\n",
    "skipped_names = []\n",
    "\n",
    "for name in first_names:\n",
    "    # skip names with abbreviation\n",
    "    if '.' in name:\n",
    "        skipped_names.append(name)\n",
    "        continue\n",
    "    \n",
    "    gender = helpers.infer_gender_from_name(name,\n",
    "                                            sequence_length,\n",
    "                                            vocab_to_int_map,\n",
    "                                            classifier,\n",
    "                                            is_training_on_gpu)\n",
    "    \n",
    "    genders.append(gender) "
   ]
  },
  {
   "cell_type": "markdown",
   "metadata": {},
   "source": [
    "See what names are skipped"
   ]
  },
  {
   "cell_type": "code",
   "execution_count": 264,
   "metadata": {},
   "outputs": [
    {
     "data": {
      "text/plain": [
       "['r.',\n",
       " 'j.',\n",
       " 'a.',\n",
       " 'l.',\n",
       " 'j.',\n",
       " 'h.',\n",
       " 'h.',\n",
       " 'k.',\n",
       " 'h.',\n",
       " 'r.',\n",
       " 's.',\n",
       " 'r.',\n",
       " 'w.',\n",
       " 'm.',\n",
       " 'j.',\n",
       " 'e.',\n",
       " 'h.',\n",
       " 'g.',\n",
       " 'f.',\n",
       " 'c.',\n",
       " 'w.']"
      ]
     },
     "execution_count": 264,
     "metadata": {},
     "output_type": "execute_result"
    }
   ],
   "source": [
    "skipped_names"
   ]
  },
  {
   "cell_type": "markdown",
   "metadata": {},
   "source": [
    "See the distribution of genders"
   ]
  },
  {
   "cell_type": "code",
   "execution_count": 265,
   "metadata": {},
   "outputs": [
    {
     "name": "stdout",
     "output_type": "stream",
     "text": [
      "Total number of employees: 23216\n",
      "Total number of males: 14541\n",
      "Total number of females: 8675\n"
     ]
    }
   ],
   "source": [
    "print('Total number of employees: {}'.format(len(genders)))\n",
    "print('Total number of males: {}'.format(genders.count('male')))\n",
    "print('Total number of females: {}'.format(genders.count('female')))"
   ]
  },
  {
   "cell_type": "code",
   "execution_count": 266,
   "metadata": {},
   "outputs": [
    {
     "data": {
      "text/plain": [
       "([<matplotlib.patches.Wedge at 0x7f1f87a73358>,\n",
       "  <matplotlib.patches.Wedge at 0x7f1f87a73ac8>],\n",
       " [Text(-0.4252111523424957, 1.0144927185167802, 'Male'),\n",
       "  Text(0.42521105735882997, -1.0144927583279173, 'Female')],\n",
       " [Text(-0.23193335582317942, 0.5533596646455164, '63%'),\n",
       "  Text(0.23193330401390722, -0.5533596863606821, '37%')])"
      ]
     },
     "execution_count": 266,
     "metadata": {},
     "output_type": "execute_result"
    },
    {
     "data": {
      "image/png": "[encoded data removed]",
      "text/plain": [
       "<Figure size 432x288 with 1 Axes>"
      ]
     },
     "metadata": {},
     "output_type": "display_data"
    }
   ],
   "source": [
    "labels = ['Male', 'Female']\n",
    "sizes = [genders.count('male'), genders.count('female')]\n",
    "plt.pie(sizes, labels=labels, autopct='%1.0f%%', colors=['magenta', 'orange'])"
   ]
  }
 ],
 "metadata": {
  "kernelspec": {
   "display_name": "Python 3",
   "language": "python",
   "name": "python3"
  },
  "language_info": {
   "codemirror_mode": {
    "name": "ipython",
    "version": 3
   },
   "file_extension": ".py",
   "mimetype": "text/x-python",
   "name": "python",
   "nbconvert_exporter": "python",
   "pygments_lexer": "ipython3",
   "version": "3.7.1"
  }
 },
 "nbformat": 4,
 "nbformat_minor": 2
}
